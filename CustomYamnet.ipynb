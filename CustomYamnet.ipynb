{
 "cells": [
  {
   "cell_type": "code",
   "execution_count": 1,
   "id": "6242b46c",
   "metadata": {},
   "outputs": [
    {
     "name": "stderr",
     "output_type": "stream",
     "text": [
      "2023-07-12 05:17:35.964739: W tensorflow/stream_executor/platform/default/dso_loader.cc:64] Could not load dynamic library 'libcudart.so.11.0'; dlerror: libcudart.so.11.0: cannot open shared object file: No such file or directory\n",
      "2023-07-12 05:17:35.964762: I tensorflow/stream_executor/cuda/cudart_stub.cc:29] Ignore above cudart dlerror if you do not have a GPU set up on your machine.\n"
     ]
    }
   ],
   "source": [
    "import os\n",
    "import numpy as np\n",
    "import pandas as pd\n",
    "import tensorflow as tf\n",
    "import tensorflow_hub as hub\n",
    "import sys\n",
    "import tensorflow_io as tfio\n",
    "from tensorflow import keras\n",
    "import matplotlib.pyplot as plt\n",
    "import seaborn as sns\n",
    "from scipy import stats"
   ]
  },
  {
   "cell_type": "code",
   "execution_count": 2,
   "id": "f471c7ab",
   "metadata": {},
   "outputs": [],
   "source": [
    "SEED = 1337\n",
    "EPOCHS = 5\n",
    "BATCH_SIZE = 64\n",
    "VALIDATION_RATIO = 0.1\n",
    "MODEL_NAME = \"uk_irish_accent_recognition\"\n",
    "\n",
    "# Location where the dataset will be downloaded.\n",
    "# By default (None), keras.utils.get_file will use ~/.keras/ as the CACHE_DIR\n",
    "CACHE_DIR = None\n",
    "\n",
    "# The location of the dataset\n",
    "URL_PATH = \"https://www.openslr.org/resources/83/\"\n",
    "\n",
    "# List of datasets compressed files that contain the audio files\n",
    "zip_files = {\n",
    "    0: \"irish_english_male.zip\",\n",
    "    1: \"midlands_english_female.zip\",\n",
    "    2: \"midlands_english_male.zip\",\n",
    "    3: \"northern_english_female.zip\",\n",
    "    4: \"northern_english_male.zip\",\n",
    "    5: \"scottish_english_female.zip\",\n",
    "    6: \"scottish_english_male.zip\",\n",
    "    7: \"southern_english_female.zip\",\n",
    "    8: \"southern_english_male.zip\",\n",
    "    9: \"welsh_english_female.zip\",\n",
    "    10: \"welsh_english_male.zip\",\n",
    "}\n",
    "\n",
    "# We see that there are 2 compressed files for each accent (except Irish):\n",
    "# - One for male speakers\n",
    "# - One for female speakers\n",
    "# However, we will using a gender agnostic dataset.\n",
    "\n",
    "# List of gender agnostic categories\n",
    "gender_agnostic_categories = [\n",
    "    \"ir\",  # Irish\n",
    "    \"mi\",  # Midlands\n",
    "    \"no\",  # Northern\n",
    "    \"sc\",  # Scottish\n",
    "    \"so\",  # Southern\n",
    "    \"we\",  # Welsh\n",
    "]\n",
    "\n",
    "class_names = [\n",
    "    \"Irish\",\n",
    "    \"Midlands\",\n",
    "    \"Northern\",\n",
    "    \"Scottish\",\n",
    "    \"Southern\",\n",
    "    \"Welsh\",\n",
    "    \"Not a Speech\"\n",
    "]\n",
    "\n",
    "keras.utils.set_random_seed(SEED)\n"
   ]
  },
  {
   "cell_type": "code",
   "execution_count": 3,
   "id": "1ac2bce2",
   "metadata": {},
   "outputs": [
    {
     "name": "stderr",
     "output_type": "stream",
     "text": [
      "2023-07-12 05:17:38.285763: W tensorflow/stream_executor/platform/default/dso_loader.cc:64] Could not load dynamic library 'libcuda.so.1'; dlerror: libcuda.so.1: cannot open shared object file: No such file or directory\n",
      "2023-07-12 05:17:38.285785: W tensorflow/stream_executor/cuda/cuda_driver.cc:269] failed call to cuInit: UNKNOWN ERROR (303)\n",
      "2023-07-12 05:17:38.285807: I tensorflow/stream_executor/cuda/cuda_diagnostics.cc:156] kernel driver does not appear to be running on this host (prakash-Inspiron-3505): /proc/driver/nvidia/version does not exist\n",
      "2023-07-12 05:17:38.286002: I tensorflow/core/platform/cpu_feature_guard.cc:151] This TensorFlow binary is optimized with oneAPI Deep Neural Network Library (oneDNN) to use the following CPU instructions in performance-critical operations:  AVX2 FMA\n",
      "To enable them in other operations, rebuild TensorFlow with the appropriate compiler flags.\n"
     ]
    }
   ],
   "source": [
    "yamnet_model = hub.load(\"https://tfhub.dev/google/yamnet/1\")\n"
   ]
  },
  {
   "cell_type": "code",
   "execution_count": 6,
   "id": "ddcb6210",
   "metadata": {},
   "outputs": [
    {
     "data": {
      "text/html": [
       "<div>\n",
       "<style scoped>\n",
       "    .dataframe tbody tr th:only-of-type {\n",
       "        vertical-align: middle;\n",
       "    }\n",
       "\n",
       "    .dataframe tbody tr th {\n",
       "        vertical-align: top;\n",
       "    }\n",
       "\n",
       "    .dataframe thead th {\n",
       "        text-align: right;\n",
       "    }\n",
       "</style>\n",
       "<table border=\"1\" class=\"dataframe\">\n",
       "  <thead>\n",
       "    <tr style=\"text-align: right;\">\n",
       "      <th></th>\n",
       "      <th>filename</th>\n",
       "    </tr>\n",
       "  </thead>\n",
       "  <tbody>\n",
       "    <tr>\n",
       "      <th>0</th>\n",
       "      <td>wef_12484_01482829612</td>\n",
       "    </tr>\n",
       "    <tr>\n",
       "      <th>1</th>\n",
       "      <td>wef_12484_01345932698</td>\n",
       "    </tr>\n",
       "    <tr>\n",
       "      <th>2</th>\n",
       "      <td>wef_12484_00999757777</td>\n",
       "    </tr>\n",
       "    <tr>\n",
       "      <th>3</th>\n",
       "      <td>wef_12484_00036278823</td>\n",
       "    </tr>\n",
       "    <tr>\n",
       "      <th>4</th>\n",
       "      <td>wef_12484_00458512623</td>\n",
       "    </tr>\n",
       "  </tbody>\n",
       "</table>\n",
       "</div>"
      ],
      "text/plain": [
       "                 filename\n",
       "0   wef_12484_01482829612\n",
       "1   wef_12484_01345932698\n",
       "2   wef_12484_00999757777\n",
       "3   wef_12484_00036278823\n",
       "4   wef_12484_00458512623"
      ]
     },
     "execution_count": 6,
     "metadata": {},
     "output_type": "execute_result"
    }
   ],
   "source": [
    "dataframe = pd.read_csv('/home/prakash/Desktop/line_index_dev.csv',names=[\"id\", \"filename\", \"transcript\"], usecols=[\"filename\"])\n",
    "dataframe.head()"
   ]
  },
  {
   "cell_type": "code",
   "execution_count": 7,
   "id": "bd1a147b",
   "metadata": {},
   "outputs": [
    {
     "data": {
      "text/html": [
       "<div>\n",
       "<style scoped>\n",
       "    .dataframe tbody tr th:only-of-type {\n",
       "        vertical-align: middle;\n",
       "    }\n",
       "\n",
       "    .dataframe tbody tr th {\n",
       "        vertical-align: top;\n",
       "    }\n",
       "\n",
       "    .dataframe thead th {\n",
       "        text-align: right;\n",
       "    }\n",
       "</style>\n",
       "<table border=\"1\" class=\"dataframe\">\n",
       "  <thead>\n",
       "    <tr style=\"text-align: right;\">\n",
       "      <th></th>\n",
       "      <th>filename</th>\n",
       "      <th>label</th>\n",
       "    </tr>\n",
       "  </thead>\n",
       "  <tbody>\n",
       "    <tr>\n",
       "      <th>0</th>\n",
       "      <td>/media/prakash/New Volume/english_dialect_clas...</td>\n",
       "      <td>3</td>\n",
       "    </tr>\n",
       "    <tr>\n",
       "      <th>1</th>\n",
       "      <td>/media/prakash/New Volume/english_dialect_clas...</td>\n",
       "      <td>2</td>\n",
       "    </tr>\n",
       "    <tr>\n",
       "      <th>2</th>\n",
       "      <td>/media/prakash/New Volume/english_dialect_clas...</td>\n",
       "      <td>1</td>\n",
       "    </tr>\n",
       "    <tr>\n",
       "      <th>3</th>\n",
       "      <td>/media/prakash/New Volume/english_dialect_clas...</td>\n",
       "      <td>1</td>\n",
       "    </tr>\n",
       "    <tr>\n",
       "      <th>4</th>\n",
       "      <td>/media/prakash/New Volume/english_dialect_clas...</td>\n",
       "      <td>3</td>\n",
       "    </tr>\n",
       "  </tbody>\n",
       "</table>\n",
       "</div>"
      ],
      "text/plain": [
       "                                            filename  label\n",
       "0  /media/prakash/New Volume/english_dialect_clas...      3\n",
       "1  /media/prakash/New Volume/english_dialect_clas...      2\n",
       "2  /media/prakash/New Volume/english_dialect_clas...      1\n",
       "3  /media/prakash/New Volume/english_dialect_clas...      1\n",
       "4  /media/prakash/New Volume/english_dialect_clas...      3"
      ]
     },
     "execution_count": 7,
     "metadata": {},
     "output_type": "execute_result"
    }
   ],
   "source": [
    "# The purpose of this function is to preprocess the dataframe by applying the following:\n",
    "# - Cleaning the filename from a leading space\n",
    "# - Generating a label column that is gender agnostic i.e.\n",
    "#   welsh english male and welsh english female for example are both labeled as\n",
    "#   welsh english\n",
    "# - Add extension .wav to the filename\n",
    "# - Shuffle samples\n",
    "def preprocess_dataframe(dataframe):\n",
    "    # Remove leading space in filename column\n",
    "    dataframe[\"filename\"] = dataframe.apply(lambda row: row[\"filename\"].strip(), axis=1)\n",
    "\n",
    "    # Create gender agnostic labels based on the filename first 2 letters\n",
    "    dataframe[\"label\"] = dataframe.apply(\n",
    "        lambda row: gender_agnostic_categories.index(row[\"filename\"][:2]), axis=1\n",
    "    )\n",
    "\n",
    "    # Add the file path to the name\n",
    "    dataframe[\"filename\"] = dataframe.apply(\n",
    "        lambda row: os.path.join( '/media/prakash/New Volume/english_dialect_classification/Yamnet/YamnetData', row[\"filename\"] + \".wav\"), axis=1\n",
    "    )\n",
    "\n",
    "    # Shuffle the samples\n",
    "    dataframe = dataframe.sample(frac=1, random_state=SEED).reset_index(drop=True)\n",
    "\n",
    "    return dataframe\n",
    "\n",
    "\n",
    "dataframe = preprocess_dataframe(dataframe)\n",
    "dataframe.head()\n"
   ]
  },
  {
   "cell_type": "code",
   "execution_count": 8,
   "id": "d7ba1b03",
   "metadata": {},
   "outputs": [
    {
     "name": "stdout",
     "output_type": "stream",
     "text": [
      "We have 81 training samples & 9 validation ones\n"
     ]
    }
   ],
   "source": [
    "split = int(len(dataframe) * (1 - VALIDATION_RATIO))\n",
    "train_df = dataframe[:split]\n",
    "valid_df = dataframe[split:]\n",
    "\n",
    "print(\n",
    "    f\"We have {train_df.shape[0]} training samples & {valid_df.shape[0]} validation ones\"\n",
    ")"
   ]
  },
  {
   "cell_type": "code",
   "execution_count": 9,
   "id": "038f55d6",
   "metadata": {},
   "outputs": [
    {
     "name": "stderr",
     "output_type": "stream",
     "text": [
      "2023-07-12 05:23:16.038353: I tensorflow_io/core/kernels/cpu_check.cc:128] Your CPU supports instructions that this TensorFlow IO binary was not compiled to use: AVX2 FMA\n"
     ]
    },
    {
     "name": "stdout",
     "output_type": "stream",
     "text": [
      "WARNING:tensorflow:Using a while_loop for converting IO>AudioResample\n"
     ]
    },
    {
     "name": "stderr",
     "output_type": "stream",
     "text": [
      "WARNING:tensorflow:Using a while_loop for converting IO>AudioResample\n"
     ]
    }
   ],
   "source": [
    "@tf.function\n",
    "def load_16k_audio_wav(filename):\n",
    "    # Read file content\n",
    "    file_content = tf.io.read_file(filename)\n",
    "\n",
    "    # Decode audio wave\n",
    "    audio_wav, sample_rate = tf.audio.decode_wav(file_content, desired_channels=1)\n",
    "    audio_wav = tf.squeeze(audio_wav, axis=-1)\n",
    "    sample_rate = tf.cast(sample_rate, dtype=tf.int64)\n",
    "\n",
    "    # Resample to 16k\n",
    "    audio_wav = tfio.audio.resample(audio_wav, rate_in=sample_rate, rate_out=16000)\n",
    "\n",
    "    return audio_wav\n",
    "\n",
    "\n",
    "def filepath_to_embeddings(filename, label):\n",
    "    # Load 16k audio wave\n",
    "    audio_wav = load_16k_audio_wav(filename)\n",
    "\n",
    "    # Get audio embeddings & scores.\n",
    "    # The embeddings are the audio features extracted using transfer learning\n",
    "    # while scores will be used to identify time slots that are not speech\n",
    "    # which will then be gathered into a specific new category 'other'\n",
    "    scores, embeddings, _ = yamnet_model(audio_wav)\n",
    "\n",
    "    # Number of embeddings in order to know how many times to repeat the label\n",
    "    embeddings_num = tf.shape(embeddings)[0]\n",
    "    labels = tf.repeat(label, embeddings_num)\n",
    "\n",
    "    # Change labels for time-slots that are not speech into a new category 'other'\n",
    "    labels = tf.where(tf.argmax(scores, axis=1) == 0, label, len(class_names) - 1)\n",
    "\n",
    "    # Using one-hot in order to use AUC\n",
    "    return (embeddings, tf.one_hot(labels, len(class_names)))\n",
    "\n",
    "\n",
    "def dataframe_to_dataset(dataframe, batch_size):\n",
    "    dataset = tf.data.Dataset.from_tensor_slices(\n",
    "        (dataframe[\"filename\"], dataframe[\"label\"])\n",
    "    )\n",
    "\n",
    "    dataset = dataset.map(\n",
    "        lambda x, y: filepath_to_embeddings(x, y),\n",
    "        num_parallel_calls=tf.data.experimental.AUTOTUNE,\n",
    "    ).unbatch()\n",
    "\n",
    "    return dataset.cache().batch(batch_size, True).prefetch(tf.data.AUTOTUNE)\n",
    "\n",
    "\n",
    "train_ds = dataframe_to_dataset(train_df, BATCH_SIZE)\n",
    "valid_ds = dataframe_to_dataset(valid_df, BATCH_SIZE)\n"
   ]
  },
  {
   "cell_type": "code",
   "execution_count": 10,
   "id": "d920167b",
   "metadata": {},
   "outputs": [],
   "source": [
    "# sys.path.append('/workspaces/codespaces-blank/models')\n",
    "sys.path.append('/home/prakash/Desktop/models')\n",
    "from models.Quantum_e2e_model_Bswain_English import HybridModel"
   ]
  },
  {
   "cell_type": "code",
   "execution_count": 11,
   "id": "778dbee5",
   "metadata": {},
   "outputs": [],
   "source": [
    "model=HybridModel() "
   ]
  },
  {
   "cell_type": "code",
   "execution_count": 12,
   "id": "eef5a2e1",
   "metadata": {},
   "outputs": [
    {
     "name": "stdout",
     "output_type": "stream",
     "text": [
      "Epoch 1/5\n",
      "16/16 [==============================] - 33s 1s/step - loss: 1.8603 - accuracy: 0.2109 - auc: 0.5974 - val_loss: 1.7226 - val_accuracy: 0.2812 - val_auc: 0.7315\n",
      "Epoch 2/5\n",
      "16/16 [==============================] - 26s 2s/step - loss: 1.7872 - accuracy: 0.3477 - auc: 0.6671 - val_loss: 1.6861 - val_accuracy: 0.4375 - val_auc: 0.7821\n",
      "Epoch 3/5\n",
      "16/16 [==============================] - 27s 2s/step - loss: 1.7520 - accuracy: 0.3994 - auc: 0.7030 - val_loss: 1.6591 - val_accuracy: 0.4219 - val_auc: 0.8166\n",
      "Epoch 4/5\n",
      "16/16 [==============================] - 16s 1s/step - loss: 1.7283 - accuracy: 0.4238 - auc: 0.7352 - val_loss: 1.6545 - val_accuracy: 0.4531 - val_auc: 0.8200\n",
      "Epoch 5/5\n",
      "16/16 [==============================] - 16s 1s/step - loss: 1.7157 - accuracy: 0.4375 - auc: 0.7536 - val_loss: 1.6521 - val_accuracy: 0.4688 - val_auc: 0.8077\n"
     ]
    }
   ],
   "source": [
    "# Normal Training\n",
    "\n",
    "model.compile(\n",
    "        optimizer=keras.optimizers.Adam(learning_rate=1.9644e-5),\n",
    "        # loss=keras.losses.MeanSquaredError(),\n",
    "        loss=keras.losses.CategoricalCrossentropy(),\n",
    "        metrics=[\"accuracy\", keras.metrics.AUC(name=\"auc\")],\n",
    "    )\n",
    "\n",
    "history = model.fit(train_ds, validation_data=valid_ds, epochs=EPOCHS);"
   ]
  },
  {
   "cell_type": "code",
   "execution_count": 14,
   "id": "2861a5d1",
   "metadata": {},
   "outputs": [
    {
     "name": "stdout",
     "output_type": "stream",
     "text": [
      "WARNING:tensorflow:5 out of the last 5 calls to <function Adjoint.differentiate_analytic at 0x7fe1f00dfdc0> triggered tf.function retracing. Tracing is expensive and the excessive number of tracings could be due to (1) creating @tf.function repeatedly in a loop, (2) passing tensors with different shapes, (3) passing Python objects instead of tensors. For (1), please define your @tf.function outside of the loop. For (2), @tf.function has experimental_relax_shapes=True option that relaxes argument shapes that can avoid unnecessary retracing. For (3), please refer to https://www.tensorflow.org/guide/function#controlling_retracing and https://www.tensorflow.org/api_docs/python/tf/function for  more details.\n"
     ]
    },
    {
     "name": "stderr",
     "output_type": "stream",
     "text": [
      "WARNING:tensorflow:5 out of the last 5 calls to <function Adjoint.differentiate_analytic at 0x7fe1f00dfdc0> triggered tf.function retracing. Tracing is expensive and the excessive number of tracings could be due to (1) creating @tf.function repeatedly in a loop, (2) passing tensors with different shapes, (3) passing Python objects instead of tensors. For (1), please define your @tf.function outside of the loop. For (2), @tf.function has experimental_relax_shapes=True option that relaxes argument shapes that can avoid unnecessary retracing. For (3), please refer to https://www.tensorflow.org/guide/function#controlling_retracing and https://www.tensorflow.org/api_docs/python/tf/function for  more details.\n"
     ]
    },
    {
     "name": "stdout",
     "output_type": "stream",
     "text": [
      "WARNING:tensorflow:6 out of the last 6 calls to <function Adjoint.differentiate_analytic at 0x7fe1f00dfdc0> triggered tf.function retracing. Tracing is expensive and the excessive number of tracings could be due to (1) creating @tf.function repeatedly in a loop, (2) passing tensors with different shapes, (3) passing Python objects instead of tensors. For (1), please define your @tf.function outside of the loop. For (2), @tf.function has experimental_relax_shapes=True option that relaxes argument shapes that can avoid unnecessary retracing. For (3), please refer to https://www.tensorflow.org/guide/function#controlling_retracing and https://www.tensorflow.org/api_docs/python/tf/function for  more details.\n"
     ]
    },
    {
     "name": "stderr",
     "output_type": "stream",
     "text": [
      "WARNING:tensorflow:6 out of the last 6 calls to <function Adjoint.differentiate_analytic at 0x7fe1f00dfdc0> triggered tf.function retracing. Tracing is expensive and the excessive number of tracings could be due to (1) creating @tf.function repeatedly in a loop, (2) passing tensors with different shapes, (3) passing Python objects instead of tensors. For (1), please define your @tf.function outside of the loop. For (2), @tf.function has experimental_relax_shapes=True option that relaxes argument shapes that can avoid unnecessary retracing. For (3), please refer to https://www.tensorflow.org/guide/function#controlling_retracing and https://www.tensorflow.org/api_docs/python/tf/function for  more details.\n"
     ]
    },
    {
     "name": "stdout",
     "output_type": "stream",
     "text": [
      "Epoch 1: Loss = 0.11602839827537537\n",
      "Epoch 2: Loss = 0.11511125415563583\n",
      "Epoch 3: Loss = 0.11353640258312225\n",
      "Epoch 4: Loss = 0.11330747604370117\n",
      "Epoch 5: Loss = 0.11245152354240417\n"
     ]
    }
   ],
   "source": [
    "# Custom Training\n",
    "\n",
    "# Define the loss function and optimizer\n",
    "loss_fn = tf.keras.losses.MeanSquaredError()\n",
    "optimizer = tf.keras.optimizers.SGD(learning_rate=0.1)\n",
    "\n",
    "# Training loop\n",
    "epochs = 5\n",
    "for epoch in range(epochs):\n",
    "    for feats_batch, labels_batch in train_ds:\n",
    "        with tf.GradientTape() as tape:\n",
    "            # Forward pass\n",
    "            logits = model(feats_batch)\n",
    "            loss_value = loss_fn(labels_batch, logits)\n",
    "\n",
    "        # Compute gradients\n",
    "        gradients = tape.gradient(loss_value, model.trainable_variables)\n",
    "\n",
    "        # Update model parameters\n",
    "        optimizer.apply_gradients(zip(gradients, model.trainable_variables))\n",
    "\n",
    "        # Print the loss every 100 epochs\n",
    "    print(f\"Epoch {epoch + 1}: Loss = {loss_value.numpy()}\")\n"
   ]
  },
  {
   "cell_type": "code",
   "execution_count": 15,
   "id": "d950e733",
   "metadata": {},
   "outputs": [
    {
     "data": {
      "image/png": "[encoded data removed]",
      "text/plain": [
       "<Figure size 1400x500 with 2 Axes>"
      ]
     },
     "metadata": {},
     "output_type": "display_data"
    }
   ],
   "source": [
    "fig, axs = plt.subplots(nrows=1, ncols=2, figsize=(14, 5))\n",
    "\n",
    "axs[0].plot(range(EPOCHS), history.history[\"accuracy\"], label=\"Training\")\n",
    "axs[0].plot(range(EPOCHS), history.history[\"val_accuracy\"], label=\"Validation\")\n",
    "axs[0].set_xlabel(\"Epochs\")\n",
    "axs[0].set_title(\"Training & Validation Accuracy\")\n",
    "axs[0].legend()\n",
    "axs[0].grid(True)\n",
    "\n",
    "axs[1].plot(range(EPOCHS), history.history[\"auc\"], label=\"Training\")\n",
    "axs[1].plot(range(EPOCHS), history.history[\"val_auc\"], label=\"Validation\")\n",
    "axs[1].set_xlabel(\"Epochs\")\n",
    "axs[1].set_title(\"Training & Validation AUC\")\n",
    "axs[1].legend()\n",
    "axs[1].grid(True)\n",
    "\n",
    "plt.show()"
   ]
  },
  {
   "cell_type": "code",
   "execution_count": 16,
   "id": "dc33681d",
   "metadata": {},
   "outputs": [
    {
     "name": "stdout",
     "output_type": "stream",
     "text": [
      "16/16 [==============================] - 4s 236ms/step - loss: 1.7169 - accuracy: 0.4707 - auc: 0.7480\n",
      "1/1 [==============================] - 0s 464ms/step - loss: 1.6861 - accuracy: 0.5000 - auc: 0.7914\n"
     ]
    }
   ],
   "source": [
    "train_loss, train_acc, train_auc = model.evaluate(train_ds)\n",
    "valid_loss, valid_acc, valid_auc = model.evaluate(valid_ds)"
   ]
  },
  {
   "cell_type": "code",
   "execution_count": 17,
   "id": "6ccc97c1",
   "metadata": {},
   "outputs": [
    {
     "name": "stdout",
     "output_type": "stream",
     "text": [
      "train d-prime: 0.945, validation d-prime: 1.147\n"
     ]
    }
   ],
   "source": [
    "# The following function calculates the d-prime score from the AUC\n",
    "def d_prime(auc):\n",
    "    standard_normal = stats.norm()\n",
    "    d_prime = standard_normal.ppf(auc) * np.sqrt(2.0)\n",
    "    return d_prime\n",
    "\n",
    "\n",
    "print(\n",
    "    \"train d-prime: {0:.3f}, validation d-prime: {1:.3f}\".format(\n",
    "        d_prime(train_auc), d_prime(valid_auc)\n",
    "    )\n",
    ")"
   ]
  },
  {
   "cell_type": "code",
   "execution_count": 18,
   "id": "61d13beb",
   "metadata": {},
   "outputs": [
    {
     "data": {
      "image/png": "[encoded data removed]",
      "text/plain": [
       "<Figure size 1000x800 with 2 Axes>"
      ]
     },
     "metadata": {},
     "output_type": "display_data"
    }
   ],
   "source": [
    "# Create x and y tensors\n",
    "x_valid = None\n",
    "y_valid = None\n",
    "\n",
    "for x, y in valid_ds:\n",
    "    if x_valid is None:\n",
    "        x_valid = x.numpy()\n",
    "        y_valid = y.numpy()\n",
    "    else:\n",
    "        x_valid = np.concatenate((x_valid, x.numpy()), axis=0)\n",
    "        y_valid = np.concatenate((y_valid, y.numpy()), axis=0)\n",
    "\n",
    "\n",
    "\n",
    "# Generate predictions\n",
    "y_pred = model.predict(x_valid, batch_size=BATCH_SIZE)\n",
    "\n",
    "# Calculate confusion matrix\n",
    "confusion_mtx = tf.math.confusion_matrix(\n",
    "    np.argmax(y_valid, axis=1), np.argmax(y_pred, axis=1)\n",
    ")\n",
    "\n",
    "# Plot the confusion matrix\n",
    "plt.figure(figsize=(10, 8))\n",
    "sns.heatmap(\n",
    "    confusion_mtx, xticklabels=class_names, yticklabels=class_names, annot=True, fmt=\"g\"\n",
    ")\n",
    "plt.xlabel(\"Prediction\")\n",
    "plt.ylabel(\"Label\")\n",
    "plt.title(\"Validation Confusion Matrix\")\n",
    "plt.show()"
   ]
  },
  {
   "cell_type": "code",
   "execution_count": 19,
   "id": "e3b40322",
   "metadata": {},
   "outputs": [
    {
     "name": "stdout",
     "output_type": "stream",
     "text": [
      "Irish           Precision:nan%; Recall:nan%\n",
      "Midlands        Precision:nan%; Recall:nan%\n",
      "Northern        Precision:nan%; Recall:nan%\n",
      "Scottish        Precision:0.00%; Recall:0.00%\n",
      "Southern        Precision:nan%; Recall:0.00%\n",
      "Welsh           Precision:39.22%; Recall:100.00%\n",
      "Not a Speech    Precision:100.00%; Recall:92.31%\n"
     ]
    }
   ],
   "source": [
    "for i, label in enumerate(class_names):\n",
    "    precision = confusion_mtx[i, i] / np.sum(confusion_mtx[:, i])\n",
    "    recall = confusion_mtx[i, i] / np.sum(confusion_mtx[i, :])\n",
    "    print(\n",
    "        \"{0:15} Precision:{1:.2f}%; Recall:{2:.2f}%\".format(\n",
    "            label, precision * 100, recall * 100\n",
    "        )\n",
    "    )"
   ]
  },
  {
   "cell_type": "code",
   "execution_count": null,
   "id": "aef8c22a",
   "metadata": {},
   "outputs": [],
   "source": []
  },
  {
   "cell_type": "code",
   "execution_count": null,
   "id": "d0199016",
   "metadata": {},
   "outputs": [],
   "source": []
  }
 ],
 "metadata": {
  "kernelspec": {
   "display_name": "Python 3 (ipykernel)",
   "language": "python",
   "name": "python3"
  },
  "language_info": {
   "codemirror_mode": {
    "name": "ipython",
    "version": 3
   },
   "file_extension": ".py",
   "mimetype": "text/x-python",
   "name": "python",
   "nbconvert_exporter": "python",
   "pygments_lexer": "ipython3",
   "version": "3.9.16"
  }
 },
 "nbformat": 4,
 "nbformat_minor": 5
}
